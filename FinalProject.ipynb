{
 "cells": [
  {
   "cell_type": "markdown",
   "id": "brief-alignment",
   "metadata": {},
   "source": [
    "<div style=\"text-align: center; font-size:300%\"> Title </div>\n",
    "<br>\n",
    "<div style=\"text-align: center; font-size:200%\"> CMSC 320 </div>\n",
    "<br>\n",
    "<div style=\"text-align: center; font-size:200%\"> Michael Suehle and Nathan Valencia </div>"
   ]
  },
  {
   "cell_type": "markdown",
   "id": "loved-cooperative",
   "metadata": {},
   "source": [
    "# Introduction"
   ]
  },
  {
   "cell_type": "markdown",
   "id": "spectacular-smith",
   "metadata": {},
   "source": [
    "# Data Collection"
   ]
  },
  {
   "cell_type": "markdown",
   "id": "quality-reverse",
   "metadata": {},
   "source": [
    "# Data Processing"
   ]
  },
  {
   "cell_type": "markdown",
   "id": "outdoor-prior",
   "metadata": {},
   "source": [
    "# Analysis"
   ]
  },
  {
   "cell_type": "markdown",
   "id": "vocational-hopkins",
   "metadata": {},
   "source": [
    "# Insights"
   ]
  },
  {
   "cell_type": "markdown",
   "id": "medical-result",
   "metadata": {},
   "source": [
    "# Additional Resources"
   ]
  },
  {
   "cell_type": "code",
   "execution_count": null,
   "id": "mental-jungle",
   "metadata": {},
   "outputs": [],
   "source": []
  }
 ],
 "metadata": {
  "kernelspec": {
   "display_name": "Python 3",
   "language": "python",
   "name": "python3"
  },
  "language_info": {
   "codemirror_mode": {
    "name": "ipython",
    "version": 3
   },
   "file_extension": ".py",
   "mimetype": "text/x-python",
   "name": "python",
   "nbconvert_exporter": "python",
   "pygments_lexer": "ipython3",
   "version": "3.8.6"
  }
 },
 "nbformat": 4,
 "nbformat_minor": 5
}
