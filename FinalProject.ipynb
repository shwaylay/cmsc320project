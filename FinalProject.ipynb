{
 "cells": [
  {
   "cell_type": "markdown",
   "id": "brief-alignment",
   "metadata": {},
   "source": [
    "<div style=\"text-align: center; font-size:200%\"> Tutorial: Analyze What Makes a Good Valorant Player </div>\n",
    "<br>\n",
    "<div style=\"text-align: center; font-size:200%\"> with These Cool Python Datascience Techniques! </div>\n",
    "<br>\n",
    "<div style=\"text-align: center; font-size:200%\"> CMSC 320 </div>\n",
    "<br>\n",
    "<div style=\"text-align: center; font-size:200%\"> Michael Suehle and Nathan Valencia </div>"
   ]
  },
  {
   "cell_type": "markdown",
   "id": "loved-cooperative",
   "metadata": {},
   "source": [
    "# Introduction\n",
    "With the end of the <a href=\"https://playvalorant.com/en-us/news/esports/announcing-the-2021-valorant-champions-tour/\">first international Valorant competitive event</a> finally coming to a close and with there being several different highlight moments that will define the scene for many years to come, there are a lot of things that can be digested from a statistician’s point of view.  When looking at a top down view of a game, one would see that there are a lot of intricacies to team play including compositions, shotcalling, memorizing a team’s gameplan, individual explosive moments, utility combinations, divisions of members, and so much more.  But what describes a good player?  What makes a person stand out on the characters they perform on?  And how does this impact a game?  These are the questions we will be looking at when discussing this topic and using the data from the <a href=\"https://www.vlr.gg/stats\">vlr website</a>.  There are a lot more things to come up from a player than just kills, so let us bring into the limelight the kinds of things that people should be more aware of when discussing this game and its athletes."
   ]
  },
  {
   "cell_type": "markdown",
   "id": "numerous-creation",
   "metadata": {},
   "source": [
    "# The Data\n",
    "The first thing that we need to do is grab usable information and data to help support our arguments and findings.  The best place to do this is <a href=\"https://www.vlr.gg/stats\">vlr.gg</a>.  This is an unofficial website that keeps tracks of several different things that happen in game for each player.   However, there is a main statline of what this website keeps tracks of and that is how good a person can shoot at another person without dying.  The main stats that are kept on this website are as follows: kd, acs, adr, kpr, apr, fkpr, fdpr, hs%, cl%. Each of which will be discussed below: <br>\n",
    "KD: Kills / Death<br>\n",
    "ACS: Average Combat Score (Kills (point distribution by how many people are left) + Multikills (Additional 50 points for each kill after 1) + total damage).  Then it is averaged for each round at the end of the game<br>\n",
    "ADR: Damage / Round<br>\n",
    "KPR: Kills / Round<br>\n",
    "APR: Assists / Round<br>\n",
    "FKPR: First kill / Round<br>\n",
    "FDPR: First Death / Round<br>\n",
    "HS%: Headshot Kills / Kill<br>\n",
    "CL%: Clutches / rounds in ‘x’ vs 1 situation<br>\n",
    "<br>\n",
    "These stats will help gather a better outline of the players and how they perform on respective rolls.  The last thing that will be included in the graph are the agents/heroes each person primarily played.  We will count the top 3 agents that a person played.  This will reign in a lot of the data and flexible players who can play a multitude of roles will be accounted for each character they use dependent on the role we are analyzing.  So before going through each of the datasets, we need to establish those roles and what they are known for.\n",
    "<br>\n",
    "The first up are Sentinels.  These are the people that are expected to lockdown avenues and sites as well as expected to watch flanks so the team can focus on their main objectives.  They aren’t looked at to get a lot of kills and are mainly looked to for helping set up the rest of the team.  The next role would be the controllers.  These kinds of characters control the area that is being fought over by placing smokes in key areas to slow the aggression of the enemy team and allow the rest of the team to move safely from destination to destination.  These types of players are also not expected to get many kills and are reasonably used to help control areas and stay alive to keep controlling places that need presence.  Initiators are known for their information gathering skills.  They are said to “initiate” the fight by scanning areas, flashing out corners, de-buffing the enemy team, scouting portions of the map and in general being the first sets of util that set up an execute of a plan.  These people focus on their initial usage of utility but can also get kills.  As such, they are seen as the second fraggers behind the main stars of the show.  And those would be the duelists.  Duelists’ main job is to secure map control through the elimination of the opposing team.  They are the first bodies to take fights and should always be the first out of main chokes and areas.  They are equipped with utility to help themselves secure kills as well as push up deeper into enemy territory and hold aggressive angles.  The team helps set them up to succeed in getting into positions to get those kills, but the actual act of dispatching the enemy is normally done by this role."
   ]
  },
  {
   "cell_type": "markdown",
   "id": "spectacular-smith",
   "metadata": {},
   "source": [
    "## Data Collection\n",
    "Here we scrape the website for the table we need using <a href=\"https://www.crummy.com/software/BeautifulSoup/bs4/doc/\">BeautifulSoup</a> and store in a <a href=\"https://pandas.pydata.org/pandas-docs/stable/user_guide/index.html#user-guide\">pandas dataframe</a>. We do this easily using code from <a href=\"https://github.com/cmsc320/spring2022/blob/main/project1/README.md\">project 1</a>. HERE we should explain why we are using the specific table we use."
   ]
  },
  {
   "cell_type": "code",
   "execution_count": 1,
   "id": "comfortable-muscle",
   "metadata": {},
   "outputs": [],
   "source": [
    "from bs4 import BeautifulSoup\n",
    "import requests\n",
    "import pandas as pd\n",
    "import numpy as np\n"
   ]
  },
  {
   "cell_type": "markdown",
   "id": "active-blood",
   "metadata": {},
   "source": [
    "Note that the agents are not read in. We should do something about that\n",
    "also note that clutch percentage has missing data where it should be 0, so we will will that in too"
   ]
  },
  {
   "cell_type": "markdown",
   "id": "respiratory-principle",
   "metadata": {},
   "source": [
    "## Data Wrangling\n",
    "Notice how the 'Agents' column is missing values? That is because vlr.gg uses images to display the agents. Below, we add the agent images to our Dataframe and set the missing Clutch Percent (CL%) to 0% since that is what its value should be if you compute it from the Clutches (CL) column."
   ]
  },
  {
   "cell_type": "markdown",
   "id": "executive-village",
   "metadata": {},
   "source": [
    "Now, let's extract the names of each of the agents from their html image tag and put that in the 'Agents' column."
   ]
  },
  {
   "cell_type": "markdown",
   "id": "naughty-addition",
   "metadata": {},
   "source": [
    "Now let's make a column for the agent classes. To help with this, we use a hardcoded 'classes' dictionary that maps agents to their respective classes."
   ]
  },
  {
   "cell_type": "markdown",
   "id": "downtown-minnesota",
   "metadata": {},
   "source": [
    "Almost ready for processing! Finally, let's separate the player names from their teams."
   ]
  },
  {
   "cell_type": "code",
   "execution_count": 2,
   "id": "bulgarian-infrared",
   "metadata": {},
   "outputs": [],
   "source": [
    "#now im gonna try doing the same stuff above but for each character\n",
    "agent_classes = {'phoenix':'duelist',\n",
    "           'jett':'duelist',\n",
    "           'viper':'controller',\n",
    "           'sova':'initiator',\n",
    "           'cypher':'sentinel',\n",
    "           'brimstone':'controller',\n",
    "           'sage':'sentinel',\n",
    "           'omen':'controller',\n",
    "           'raze':'duelist',\n",
    "           'breach':'initiator',\n",
    "           'astra':'controller',\n",
    "           'chamber':'sentinel',\n",
    "           'kayo':'initiator',\n",
    "           'killjoy':'sentinel',\n",
    "           'neon':'duelist',\n",
    "           'reyna':'duelist',\n",
    "           'skye':'initiator',\n",
    "           'yoru':'duelist'}\n",
    "\n",
    "all_agents = list(agent_classes.keys())\n",
    "\n",
    "\n",
    "agent_data = dict()\n",
    "\n",
    "for agent in all_agents:\n",
    "    table_string = 'https://www.vlr.gg/stats/?event_group_id=all&event_id=926&series_id=all&region=all&country=all&min_rounds=1&min_rating=0&agent='+agent+'&map_id=all&timespan=90d'\n",
    "    request = requests.get(table_string) \n",
    "    root = BeautifulSoup(request.content, 'html.parser')\n",
    "    table = root.find('table')\n",
    "    agent_frame = pd.read_html(str(table))[0]\n",
    "    \n",
    "    #change NaN in CL% to 0\n",
    "    agent_frame['CL%'] = agent_frame['CL%'].replace(np.nan, '0%')\n",
    "    \n",
    "    #fill in agent name\n",
    "    agent_frame['Agents'] = agent_frame['Agents'].replace(np.nan, agent)\n",
    "    \n",
    "    #add class\n",
    "    class_col = [agent_classes[agent] for i in range(0,len(agent_frame))]\n",
    "    agent_frame['Class'] = class_col\n",
    "    \n",
    "    #add team column\n",
    "    teams = []\n",
    "    names = []\n",
    "    for i, row in agent_frame.iterrows():\n",
    "        name_team = row['Player'].split(' ')\n",
    "        names.append(name_team[0])\n",
    "        if len(name_team) > 1:\n",
    "            teams.append(name_team[1])\n",
    "        else:\n",
    "            teams.append('')\n",
    "\n",
    "    agent_frame.drop(columns=['Player'])\n",
    "    agent_frame['Player'] = names\n",
    "    agent_frame['team'] = teams\n",
    "    \n",
    "    agent_data[agent]=agent_frame\n"
   ]
  },
  {
   "cell_type": "code",
   "execution_count": 3,
   "id": "considerable-orbit",
   "metadata": {},
   "outputs": [
    {
     "data": {
      "text/html": [
       "<div>\n",
       "<style scoped>\n",
       "    .dataframe tbody tr th:only-of-type {\n",
       "        vertical-align: middle;\n",
       "    }\n",
       "\n",
       "    .dataframe tbody tr th {\n",
       "        vertical-align: top;\n",
       "    }\n",
       "\n",
       "    .dataframe thead th {\n",
       "        text-align: right;\n",
       "    }\n",
       "</style>\n",
       "<table border=\"1\" class=\"dataframe\">\n",
       "  <thead>\n",
       "    <tr style=\"text-align: right;\">\n",
       "      <th></th>\n",
       "      <th>Player</th>\n",
       "      <th>Agents</th>\n",
       "      <th>Rnd</th>\n",
       "      <th>ACS</th>\n",
       "      <th>K:D</th>\n",
       "      <th>KAST</th>\n",
       "      <th>ADR</th>\n",
       "      <th>KPR</th>\n",
       "      <th>APR</th>\n",
       "      <th>FKPR</th>\n",
       "      <th>...</th>\n",
       "      <th>CL%</th>\n",
       "      <th>CL</th>\n",
       "      <th>KMax</th>\n",
       "      <th>K</th>\n",
       "      <th>D</th>\n",
       "      <th>A</th>\n",
       "      <th>FK</th>\n",
       "      <th>FD</th>\n",
       "      <th>Class</th>\n",
       "      <th>team</th>\n",
       "    </tr>\n",
       "  </thead>\n",
       "  <tbody>\n",
       "    <tr>\n",
       "      <th>0</th>\n",
       "      <td>JonahP</td>\n",
       "      <td>breach</td>\n",
       "      <td>43</td>\n",
       "      <td>228.5</td>\n",
       "      <td>1.09</td>\n",
       "      <td>81%</td>\n",
       "      <td>143.8</td>\n",
       "      <td>0.86</td>\n",
       "      <td>0.14</td>\n",
       "      <td>0.12</td>\n",
       "      <td>...</td>\n",
       "      <td>0%</td>\n",
       "      <td>0/3</td>\n",
       "      <td>25</td>\n",
       "      <td>37</td>\n",
       "      <td>34</td>\n",
       "      <td>6</td>\n",
       "      <td>5</td>\n",
       "      <td>2</td>\n",
       "      <td>initiator</td>\n",
       "      <td>TGRD</td>\n",
       "    </tr>\n",
       "    <tr>\n",
       "      <th>1</th>\n",
       "      <td>Crws</td>\n",
       "      <td>breach</td>\n",
       "      <td>61</td>\n",
       "      <td>202.7</td>\n",
       "      <td>0.91</td>\n",
       "      <td>67%</td>\n",
       "      <td>134.8</td>\n",
       "      <td>0.69</td>\n",
       "      <td>0.20</td>\n",
       "      <td>0.07</td>\n",
       "      <td>...</td>\n",
       "      <td>22%</td>\n",
       "      <td>2/9</td>\n",
       "      <td>18</td>\n",
       "      <td>42</td>\n",
       "      <td>46</td>\n",
       "      <td>12</td>\n",
       "      <td>4</td>\n",
       "      <td>4</td>\n",
       "      <td>initiator</td>\n",
       "      <td>XIA</td>\n",
       "    </tr>\n",
       "    <tr>\n",
       "      <th>2</th>\n",
       "      <td>Jamppi</td>\n",
       "      <td>breach</td>\n",
       "      <td>111</td>\n",
       "      <td>194.8</td>\n",
       "      <td>1.07</td>\n",
       "      <td>69%</td>\n",
       "      <td>124.6</td>\n",
       "      <td>0.71</td>\n",
       "      <td>0.11</td>\n",
       "      <td>0.12</td>\n",
       "      <td>...</td>\n",
       "      <td>10%</td>\n",
       "      <td>1/10</td>\n",
       "      <td>19</td>\n",
       "      <td>79</td>\n",
       "      <td>74</td>\n",
       "      <td>12</td>\n",
       "      <td>13</td>\n",
       "      <td>8</td>\n",
       "      <td>initiator</td>\n",
       "      <td>TL</td>\n",
       "    </tr>\n",
       "    <tr>\n",
       "      <th>3</th>\n",
       "      <td>Boaster</td>\n",
       "      <td>breach</td>\n",
       "      <td>20</td>\n",
       "      <td>169.0</td>\n",
       "      <td>0.71</td>\n",
       "      <td>60%</td>\n",
       "      <td>113.1</td>\n",
       "      <td>0.60</td>\n",
       "      <td>0.25</td>\n",
       "      <td>0.05</td>\n",
       "      <td>...</td>\n",
       "      <td>0%</td>\n",
       "      <td>0/2</td>\n",
       "      <td>12</td>\n",
       "      <td>12</td>\n",
       "      <td>17</td>\n",
       "      <td>5</td>\n",
       "      <td>1</td>\n",
       "      <td>2</td>\n",
       "      <td>initiator</td>\n",
       "      <td>FNC</td>\n",
       "    </tr>\n",
       "    <tr>\n",
       "      <th>4</th>\n",
       "      <td>Klaus</td>\n",
       "      <td>breach</td>\n",
       "      <td>18</td>\n",
       "      <td>169.0</td>\n",
       "      <td>0.71</td>\n",
       "      <td>67%</td>\n",
       "      <td>109.1</td>\n",
       "      <td>0.56</td>\n",
       "      <td>0.11</td>\n",
       "      <td>0.00</td>\n",
       "      <td>...</td>\n",
       "      <td>0%</td>\n",
       "      <td>0/2</td>\n",
       "      <td>10</td>\n",
       "      <td>10</td>\n",
       "      <td>14</td>\n",
       "      <td>2</td>\n",
       "      <td>0</td>\n",
       "      <td>0</td>\n",
       "      <td>initiator</td>\n",
       "      <td>KRÜ</td>\n",
       "    </tr>\n",
       "  </tbody>\n",
       "</table>\n",
       "<p>5 rows × 22 columns</p>\n",
       "</div>"
      ],
      "text/plain": [
       "    Player  Agents  Rnd    ACS   K:D KAST    ADR   KPR   APR  FKPR  ...  CL%  \\\n",
       "0   JonahP  breach   43  228.5  1.09  81%  143.8  0.86  0.14  0.12  ...   0%   \n",
       "1     Crws  breach   61  202.7  0.91  67%  134.8  0.69  0.20  0.07  ...  22%   \n",
       "2   Jamppi  breach  111  194.8  1.07  69%  124.6  0.71  0.11  0.12  ...  10%   \n",
       "3  Boaster  breach   20  169.0  0.71  60%  113.1  0.60  0.25  0.05  ...   0%   \n",
       "4    Klaus  breach   18  169.0  0.71  67%  109.1  0.56  0.11  0.00  ...   0%   \n",
       "\n",
       "     CL KMax   K   D   A  FK  FD      Class  team  \n",
       "0   0/3   25  37  34   6   5   2  initiator  TGRD  \n",
       "1   2/9   18  42  46  12   4   4  initiator   XIA  \n",
       "2  1/10   19  79  74  12  13   8  initiator    TL  \n",
       "3   0/2   12  12  17   5   1   2  initiator   FNC  \n",
       "4   0/2   10  10  14   2   0   0  initiator   KRÜ  \n",
       "\n",
       "[5 rows x 22 columns]"
      ]
     },
     "execution_count": 3,
     "metadata": {},
     "output_type": "execute_result"
    }
   ],
   "source": [
    "agent_data['breach'].head()"
   ]
  },
  {
   "cell_type": "code",
   "execution_count": 4,
   "id": "cosmetic-compromise",
   "metadata": {},
   "outputs": [
    {
     "data": {
      "text/html": [
       "<div>\n",
       "<style scoped>\n",
       "    .dataframe tbody tr th:only-of-type {\n",
       "        vertical-align: middle;\n",
       "    }\n",
       "\n",
       "    .dataframe tbody tr th {\n",
       "        vertical-align: top;\n",
       "    }\n",
       "\n",
       "    .dataframe thead th {\n",
       "        text-align: right;\n",
       "    }\n",
       "</style>\n",
       "<table border=\"1\" class=\"dataframe\">\n",
       "  <thead>\n",
       "    <tr style=\"text-align: right;\">\n",
       "      <th></th>\n",
       "      <th>Player</th>\n",
       "      <th>Agents</th>\n",
       "      <th>Rnd</th>\n",
       "      <th>ACS</th>\n",
       "      <th>K:D</th>\n",
       "      <th>KAST</th>\n",
       "      <th>ADR</th>\n",
       "      <th>KPR</th>\n",
       "      <th>APR</th>\n",
       "      <th>FKPR</th>\n",
       "      <th>...</th>\n",
       "      <th>CL%</th>\n",
       "      <th>CL</th>\n",
       "      <th>KMax</th>\n",
       "      <th>K</th>\n",
       "      <th>D</th>\n",
       "      <th>A</th>\n",
       "      <th>FK</th>\n",
       "      <th>FD</th>\n",
       "      <th>Class</th>\n",
       "      <th>team</th>\n",
       "    </tr>\n",
       "  </thead>\n",
       "  <tbody>\n",
       "    <tr>\n",
       "      <th>0</th>\n",
       "      <td>H1ber</td>\n",
       "      <td>jett</td>\n",
       "      <td>20</td>\n",
       "      <td>277.0</td>\n",
       "      <td>1.13</td>\n",
       "      <td>80%</td>\n",
       "      <td>170.7</td>\n",
       "      <td>0.90</td>\n",
       "      <td>0.15</td>\n",
       "      <td>0.30</td>\n",
       "      <td>...</td>\n",
       "      <td>0%</td>\n",
       "      <td>0/1</td>\n",
       "      <td>18</td>\n",
       "      <td>18</td>\n",
       "      <td>16</td>\n",
       "      <td>3</td>\n",
       "      <td>6</td>\n",
       "      <td>3</td>\n",
       "      <td>duelist</td>\n",
       "      <td>VIT</td>\n",
       "    </tr>\n",
       "    <tr>\n",
       "      <th>1</th>\n",
       "      <td>ScreaM</td>\n",
       "      <td>jett</td>\n",
       "      <td>118</td>\n",
       "      <td>270.8</td>\n",
       "      <td>1.33</td>\n",
       "      <td>71%</td>\n",
       "      <td>168.4</td>\n",
       "      <td>0.92</td>\n",
       "      <td>0.14</td>\n",
       "      <td>0.23</td>\n",
       "      <td>...</td>\n",
       "      <td>17%</td>\n",
       "      <td>1/6</td>\n",
       "      <td>23</td>\n",
       "      <td>109</td>\n",
       "      <td>82</td>\n",
       "      <td>17</td>\n",
       "      <td>27</td>\n",
       "      <td>12</td>\n",
       "      <td>duelist</td>\n",
       "      <td>TL</td>\n",
       "    </tr>\n",
       "    <tr>\n",
       "      <th>2</th>\n",
       "      <td>Sayaplayer</td>\n",
       "      <td>jett</td>\n",
       "      <td>87</td>\n",
       "      <td>266.8</td>\n",
       "      <td>1.50</td>\n",
       "      <td>72%</td>\n",
       "      <td>164.9</td>\n",
       "      <td>0.97</td>\n",
       "      <td>0.10</td>\n",
       "      <td>0.21</td>\n",
       "      <td>...</td>\n",
       "      <td>0%</td>\n",
       "      <td>0/12</td>\n",
       "      <td>27</td>\n",
       "      <td>84</td>\n",
       "      <td>56</td>\n",
       "      <td>9</td>\n",
       "      <td>18</td>\n",
       "      <td>12</td>\n",
       "      <td>duelist</td>\n",
       "      <td>TGRD</td>\n",
       "    </tr>\n",
       "    <tr>\n",
       "      <th>3</th>\n",
       "      <td>aspas</td>\n",
       "      <td>jett</td>\n",
       "      <td>199</td>\n",
       "      <td>244.8</td>\n",
       "      <td>1.27</td>\n",
       "      <td>76%</td>\n",
       "      <td>148.3</td>\n",
       "      <td>0.86</td>\n",
       "      <td>0.14</td>\n",
       "      <td>0.15</td>\n",
       "      <td>...</td>\n",
       "      <td>5%</td>\n",
       "      <td>1/19</td>\n",
       "      <td>27</td>\n",
       "      <td>172</td>\n",
       "      <td>135</td>\n",
       "      <td>27</td>\n",
       "      <td>30</td>\n",
       "      <td>34</td>\n",
       "      <td>duelist</td>\n",
       "      <td>LLL</td>\n",
       "    </tr>\n",
       "    <tr>\n",
       "      <th>4</th>\n",
       "      <td>Jamppi</td>\n",
       "      <td>jett</td>\n",
       "      <td>85</td>\n",
       "      <td>244.0</td>\n",
       "      <td>1.21</td>\n",
       "      <td>69%</td>\n",
       "      <td>163.5</td>\n",
       "      <td>0.88</td>\n",
       "      <td>0.20</td>\n",
       "      <td>0.21</td>\n",
       "      <td>...</td>\n",
       "      <td>29%</td>\n",
       "      <td>2/7</td>\n",
       "      <td>33</td>\n",
       "      <td>75</td>\n",
       "      <td>62</td>\n",
       "      <td>17</td>\n",
       "      <td>18</td>\n",
       "      <td>21</td>\n",
       "      <td>duelist</td>\n",
       "      <td>TL</td>\n",
       "    </tr>\n",
       "  </tbody>\n",
       "</table>\n",
       "<p>5 rows × 22 columns</p>\n",
       "</div>"
      ],
      "text/plain": [
       "       Player Agents  Rnd    ACS   K:D KAST    ADR   KPR   APR  FKPR  ...  \\\n",
       "0       H1ber   jett   20  277.0  1.13  80%  170.7  0.90  0.15  0.30  ...   \n",
       "1      ScreaM   jett  118  270.8  1.33  71%  168.4  0.92  0.14  0.23  ...   \n",
       "2  Sayaplayer   jett   87  266.8  1.50  72%  164.9  0.97  0.10  0.21  ...   \n",
       "3       aspas   jett  199  244.8  1.27  76%  148.3  0.86  0.14  0.15  ...   \n",
       "4      Jamppi   jett   85  244.0  1.21  69%  163.5  0.88  0.20  0.21  ...   \n",
       "\n",
       "   CL%    CL KMax    K    D   A  FK  FD    Class  team  \n",
       "0   0%   0/1   18   18   16   3   6   3  duelist   VIT  \n",
       "1  17%   1/6   23  109   82  17  27  12  duelist    TL  \n",
       "2   0%  0/12   27   84   56   9  18  12  duelist  TGRD  \n",
       "3   5%  1/19   27  172  135  27  30  34  duelist   LLL  \n",
       "4  29%   2/7   33   75   62  17  18  21  duelist    TL  \n",
       "\n",
       "[5 rows x 22 columns]"
      ]
     },
     "execution_count": 4,
     "metadata": {},
     "output_type": "execute_result"
    }
   ],
   "source": [
    "combined_data = pd.DataFrame()\n",
    "\n",
    "for agent in all_agents:\n",
    "    agent_frame = agent_data[agent]\n",
    "    combined_data = pd.concat([combined_data,agent_frame])\n",
    "\n",
    "combined_data.head()"
   ]
  },
  {
   "cell_type": "markdown",
   "id": "quality-reverse",
   "metadata": {},
   "source": [
    "# Data Processing and Analysis\n",
    "To create the plots for our analysis, we use the <a href=\"https://matplotlib.org/3.5.0/api/_as_gen/matplotlib.pyplot.html\">pyplot module of matplotlib</a>.\n",
    "First, let's start by looking at the overall frequency and average combat scores (ACS) for each class. The code below creates two histograms that conveys this information."
   ]
  },
  {
   "cell_type": "code",
   "execution_count": 17,
   "id": "flush-croatia",
   "metadata": {},
   "outputs": [
    {
     "data": {
      "image/png": "[encoded data removed]",
      "text/plain": [
       "<Figure size 432x288 with 1 Axes>"
      ]
     },
     "metadata": {
      "needs_background": "light"
     },
     "output_type": "display_data"
    },
    {
     "data": {
      "image/png": "[encoded data removed]",
      "text/plain": [
       "<Figure size 432x288 with 1 Axes>"
      ]
     },
     "metadata": {
      "needs_background": "light"
     },
     "output_type": "display_data"
    }
   ],
   "source": [
    "import matplotlib.pyplot as plt\n",
    "class_colors = {'duelist':'blue', 'initiator':'green', 'sentinel':'orange', 'controller':'red'}\n",
    "#lets plot the classes and their acs\n",
    "classes_acs = {'duelist':0,'initiator':0,'sentinel':0,'controller':0}\n",
    "classes_freq = {'duelist':0,'initiator':0,'sentinel':0,'controller':0}\n",
    "\n",
    "for i, row in combined_data.iterrows():\n",
    "    classes = row['Class']\n",
    "    classes_acs[classes] += row['ACS']\n",
    "    classes_freq[classes] += 1\n",
    "        \n",
    "for key in classes_acs.keys():\n",
    "    classes_acs[key] = classes_acs[key] / classes_freq[key]\n",
    "\n",
    "plt.xlabel('Class')\n",
    "plt.ylabel('Frequency')\n",
    "plt.title('Frequency of Each Class')\n",
    "plt.bar(classes_acs.keys(), classes_freq.values(), color=class_colors.values())\n",
    "plt.show()\n",
    "plt.xlabel('Class')\n",
    "plt.ylabel('ACS')\n",
    "plt.title('ACS of Each Class')\n",
    "plt.bar(classes_acs.keys(), classes_acs.values(), color=class_colors.values())\n",
    "plt.show()"
   ]
  },
  {
   "cell_type": "markdown",
   "id": "rolled-return",
   "metadata": {},
   "source": [
    "Imma plot the frequency of characters now by doing similar thing"
   ]
  },
  {
   "cell_type": "code",
   "execution_count": 18,
   "id": "processed-stable",
   "metadata": {},
   "outputs": [
    {
     "data": {
      "image/png": "[encoded data removed]",
      "text/plain": [
       "<Figure size 432x288 with 1 Axes>"
      ]
     },
     "metadata": {
      "needs_background": "light"
     },
     "output_type": "display_data"
    }
   ],
   "source": [
    "#imma plot ACS and K:D for everyone and label them with class\n",
    "#here I store the relevant information in a class_data dict() which maps classes to their kd and acs observations\n",
    "import matplotlib.pyplot as plt\n",
    "class_colors = {'duelist':'blue', 'initiator':'green', 'sentinel':'orange', 'controller':'red'}\n",
    "plt.figure()\n",
    "class_data = {'duelist':[[],[]], 'initiator':[[],[]], 'sentinel':[[],[]], 'controller':[[],[]]}\n",
    "\n",
    "for agent in all_agents:\n",
    "    agent_frame = agent_data[agent]\n",
    "    kd = agent_frame['K:D']\n",
    "    acs = agent_frame['ACS']\n",
    "    agent_class = agent_classes[agent]\n",
    "    \n",
    "    class_data[agent_class][0] = class_data[agent_class][0] + list(kd)\n",
    "    class_data[agent_class][1] = class_data[agent_class][1] + list(acs)\n",
    "    \n",
    "for classes in class_data.keys():\n",
    "    kd = class_data[classes][0]\n",
    "    acs = class_data[classes][1]\n",
    "    plt.scatter(acs, kd, c=class_colors[classes], label=classes)\n",
    "\n",
    "        \n",
    "plt.title('K:D vs ACS')\n",
    "plt.xlabel('ACS')\n",
    "plt.ylabel('K:D')\n",
    "plt.legend()\n",
    "\n",
    "plt.show()"
   ]
  },
  {
   "cell_type": "code",
   "execution_count": 19,
   "id": "every-cursor",
   "metadata": {},
   "outputs": [
    {
     "data": {
      "image/png": "[encoded data removed]",
      "text/plain": [
       "<Figure size 432x288 with 1 Axes>"
      ]
     },
     "metadata": {
      "needs_background": "light"
     },
     "output_type": "display_data"
    }
   ],
   "source": [
    "#imma plot ACS and FKPR for everyone and label them with class\n",
    "\n",
    "plt.figure()\n",
    "class_data = {'duelist':[[],[]], 'initiator':[[],[]], 'sentinel':[[],[]], 'controller':[[],[]]}\n",
    "\n",
    "for agent in all_agents:\n",
    "    agent_frame = agent_data[agent]\n",
    "    fkpr = agent_frame['FKPR']\n",
    "    acs = agent_frame['ACS']\n",
    "    agent_class = agent_classes[agent]\n",
    "\n",
    "    class_data[agent_class][0] = class_data[agent_class][0] + list(fkpr)\n",
    "    class_data[agent_class][1] = class_data[agent_class][1] + list(acs)\n",
    "    \n",
    "for classes in class_data.keys():\n",
    "    fkpr = class_data[classes][0]\n",
    "    acs = class_data[classes][1]\n",
    "    plt.scatter(acs, fkpr, c=class_colors[classes], label=classes)\n",
    "\n",
    "        \n",
    "plt.title('FKPR vs ACS')\n",
    "plt.xlabel('ACS')\n",
    "plt.ylabel('FKPR')\n",
    "plt.legend()\n",
    "\n",
    "plt.show()"
   ]
  },
  {
   "cell_type": "code",
   "execution_count": 20,
   "id": "satellite-accounting",
   "metadata": {},
   "outputs": [
    {
     "data": {
      "image/png": "[encoded data removed]",
      "text/plain": [
       "<Figure size 432x288 with 1 Axes>"
      ]
     },
     "metadata": {
      "needs_background": "light"
     },
     "output_type": "display_data"
    }
   ],
   "source": [
    "#imma plot FKPR and FDPR for everyone and label them with class\n",
    "\n",
    "plt.figure()\n",
    "class_data = {'duelist':[[],[]], 'initiator':[[],[]], 'sentinel':[[],[]], 'controller':[[],[]]}\n",
    "\n",
    "for agent in all_agents:\n",
    "    agent_frame = agent_data[agent]\n",
    "    fdpr = agent_frame['FDPR']\n",
    "    fkpr = agent_frame['FKPR']\n",
    "    agent_class = agent_classes[agent]\n",
    "\n",
    "    class_data[agent_class][0] = class_data[agent_class][0] + list(fdpr)\n",
    "    class_data[agent_class][1] = class_data[agent_class][1] + list(fkpr)\n",
    "    \n",
    "for classes in class_data.keys():\n",
    "    fdpr = class_data[classes][0]\n",
    "    fkpr = class_data[classes][1]\n",
    "    plt.scatter(fkpr, fdpr, c=class_colors[classes], label=classes)\n",
    "\n",
    "        \n",
    "plt.title('FDPR vs FKPR')\n",
    "plt.xlabel('FKPR')\n",
    "plt.ylabel('FDPR')\n",
    "plt.legend()\n",
    "\n",
    "plt.show()"
   ]
  },
  {
   "cell_type": "code",
   "execution_count": 21,
   "id": "monthly-reproduction",
   "metadata": {},
   "outputs": [
    {
     "data": {
      "image/png": "[encoded data removed]",
      "text/plain": [
       "<Figure size 432x288 with 1 Axes>"
      ]
     },
     "metadata": {
      "needs_background": "light"
     },
     "output_type": "display_data"
    }
   ],
   "source": [
    "#imma plot ACS and FKPR for everyone and label them with class\n",
    "# thinking we can cut this\n",
    "\n",
    "plt.figure()\n",
    "class_data = {'duelist':[[],[]], 'initiator':[[],[]], 'sentinel':[[],[]], 'controller':[[],[]]}\n",
    "\n",
    "for agent in all_agents:\n",
    "    agent_frame = agent_data[agent]\n",
    "    apr = agent_frame['APR']\n",
    "    acs = agent_frame['ACS']\n",
    "    agent_class = agent_classes[agent]\n",
    "    \n",
    "    class_data[agent_class][0] = class_data[agent_class][0] + list(apr)\n",
    "    class_data[agent_class][1] = class_data[agent_class][1] + list(acs)\n",
    "    \n",
    "for classes in class_data.keys():\n",
    "    apr = class_data[classes][0]\n",
    "    acs = class_data[classes][1]\n",
    "    plt.scatter(acs, apr, c=class_colors[classes], label=classes)\n",
    "\n",
    "        \n",
    "plt.title('APR vs ACS')\n",
    "plt.xlabel('ACS')\n",
    "plt.ylabel('APR')\n",
    "plt.legend()\n",
    "\n",
    "plt.show()"
   ]
  },
  {
   "cell_type": "code",
   "execution_count": 22,
   "id": "whole-symphony",
   "metadata": {},
   "outputs": [
    {
     "data": {
      "image/png": "[encoded data removed]",
      "text/plain": [
       "<Figure size 432x288 with 1 Axes>"
      ]
     },
     "metadata": {
      "needs_background": "light"
     },
     "output_type": "display_data"
    },
    {
     "data": {
      "image/png": "[encoded data removed]",
      "text/plain": [
       "<Figure size 432x288 with 1 Axes>"
      ]
     },
     "metadata": {
      "needs_background": "light"
     },
     "output_type": "display_data"
    },
    {
     "data": {
      "image/png": "[encoded data removed]",
      "text/plain": [
       "<Figure size 432x288 with 1 Axes>"
      ]
     },
     "metadata": {
      "needs_background": "light"
     },
     "output_type": "display_data"
    },
    {
     "data": {
      "image/png": "[encoded data removed]",
      "text/plain": [
       "<Figure size 432x288 with 1 Axes>"
      ]
     },
     "metadata": {
      "needs_background": "light"
     },
     "output_type": "display_data"
    }
   ],
   "source": [
    "class_acs = {'duelist':[], 'initiator':[], 'sentinel':[], 'controller':[]}\n",
    "\n",
    "\n",
    "for agent in all_agents:\n",
    "    \n",
    "    agent_frame = agent_data[agent]\n",
    "    acs = agent_frame['ACS']\n",
    "    agent_class = agent_classes[agent]\n",
    "    \n",
    "    class_acs[agent_class] = class_acs[agent_class] + list(acs)\n",
    "\n",
    "for classes in class_acs.keys():\n",
    "    plt.figure()\n",
    "    plt.hist(class_acs[classes],range=(50,350),bins=10,color=class_colors[classes])\n",
    "\n",
    "    title = 'ACS Hist ' + classes\n",
    "    plt.title(title)\n",
    "    plt.xlabel('ACS')\n",
    "\n",
    "    plt.show()\n"
   ]
  },
  {
   "cell_type": "markdown",
   "id": "atlantic-barcelona",
   "metadata": {},
   "source": [
    "## Predictions and Hypothesis Testing\n",
    "In this section we use the <a href=\"https://scikit-learn.org/stable/modules/generated/sklearn.linear_model.LinearRegression.html\">LinearRegression module from sklearn</a> and the <a href=\"https://www.statsmodels.org/stable/api.html\">api module from statsmodels</a>.\n",
    "\n",
    "Notes: here let's do linear regression on stuff like ACS vs whatever (since those are mostly linear) and then kmeans on FDPR vs FKPR (since those seem to be in a group).\n",
    "\n",
    "Then we can conduct a T-test to evalute if the preformance of the model is statistically significant."
   ]
  },
  {
   "cell_type": "code",
   "execution_count": 23,
   "id": "several-thesis",
   "metadata": {},
   "outputs": [
    {
     "name": "stdout",
     "output_type": "stream",
     "text": [
      "                            OLS Regression Results                            \n",
      "==============================================================================\n",
      "Dep. Variable:                   FKPR   R-squared:                       0.588\n",
      "Model:                            OLS   Adj. R-squared:                  0.572\n",
      "Method:                 Least Squares   F-statistic:                     35.94\n",
      "Date:                Sun, 15 May 2022   Prob (F-statistic):           7.44e-31\n",
      "Time:                        21:18:47   Log-Likelihood:                 320.49\n",
      "No. Observations:                 184   AIC:                            -625.0\n",
      "Df Residuals:                     176   BIC:                            -599.3\n",
      "Df Model:                           7                                         \n",
      "Covariance Type:            nonrobust                                         \n",
      "========================================================================================\n",
      "                           coef    std err          t      P>|t|      [0.025      0.975]\n",
      "----------------------------------------------------------------------------------------\n",
      "Intercept               -0.0498      0.013     -3.729      0.000      -0.076      -0.023\n",
      "Class_duelist           -0.0595      0.036     -1.643      0.102      -0.131       0.012\n",
      "Class_initiator          0.0093      0.027      0.346      0.730      -0.044       0.062\n",
      "Class_sentinel          -0.0124      0.024     -0.526      0.599      -0.059       0.034\n",
      "Class_controller         0.0128      0.028      0.453      0.651      -0.043       0.069\n",
      "ACS                      0.0006   6.48e-05      9.662      0.000       0.000       0.001\n",
      "ACS:Class_duelist        0.0006      0.000      3.613      0.000       0.000       0.001\n",
      "ACS:Class_initiator  -8.537e-05      0.000     -0.612      0.541      -0.000       0.000\n",
      "ACS:Class_sentinel       0.0002      0.000      1.867      0.064   -1.23e-05       0.000\n",
      "ACS:Class_controller -8.217e-05      0.000     -0.562      0.575      -0.000       0.000\n",
      "==============================================================================\n",
      "Omnibus:                        8.599   Durbin-Watson:                   1.813\n",
      "Prob(Omnibus):                  0.014   Jarque-Bera (JB):                8.917\n",
      "Skew:                           0.425   Prob(JB):                       0.0116\n",
      "Kurtosis:                       3.664   Cond. No.                     4.36e+16\n",
      "==============================================================================\n",
      "\n",
      "Notes:\n",
      "[1] Standard Errors assume that the covariance matrix of the errors is correctly specified.\n",
      "[2] The smallest eigenvalue is 4.93e-27. This might indicate that there are\n",
      "strong multicollinearity problems or that the design matrix is singular.\n"
     ]
    }
   ],
   "source": [
    "from sklearn.linear_model import LinearRegression\n",
    "import statsmodels.api as sm\n",
    "import statsmodels.formula.api as smf\n",
    "\n",
    "\n",
    "combined_data_dummies = pd.get_dummies(combined_data, columns=['Class'])\n",
    "\n",
    "reg = smf.ols(formula='FKPR ~ Class_duelist + Class_initiator + Class_sentinel + Class_controller + ACS*Class_duelist + ACS*Class_initiator + ACS*Class_sentinel + ACS*Class_controller', data=combined_data_dummies).fit()\n",
    "print(reg.summary())\n"
   ]
  },
  {
   "cell_type": "code",
   "execution_count": 24,
   "id": "accepted-lucas",
   "metadata": {},
   "outputs": [
    {
     "data": {
      "text/plain": [
       "<matplotlib.collections.PathCollection at 0x7f1764015130>"
      ]
     },
     "execution_count": 24,
     "metadata": {},
     "output_type": "execute_result"
    },
    {
     "data": {
      "image/png": "[encoded data removed]",
      "text/plain": [
       "<Figure size 432x288 with 1 Axes>"
      ]
     },
     "metadata": {
      "needs_background": "light"
     },
     "output_type": "display_data"
    }
   ],
   "source": [
    "plt.figure()\n",
    "X = combined_data['ACS']\n",
    "Y = reg.resid\n",
    "plt.scatter(X,Y)"
   ]
  },
  {
   "cell_type": "code",
   "execution_count": 25,
   "id": "pediatric-feeding",
   "metadata": {},
   "outputs": [
    {
     "data": {
      "text/plain": [
       "(array([ 2.,  8., 21., 44., 52., 32., 12.,  9.,  3.,  1.]),\n",
       " array([-0.11540089, -0.08917184, -0.06294279, -0.03671374, -0.01048469,\n",
       "         0.01574436,  0.04197341,  0.06820246,  0.09443151,  0.12066056,\n",
       "         0.14688961]),\n",
       " <BarContainer object of 10 artists>)"
      ]
     },
     "execution_count": 25,
     "metadata": {},
     "output_type": "execute_result"
    },
    {
     "data": {
      "image/png": "[encoded data removed]",
      "text/plain": [
       "<Figure size 432x288 with 1 Axes>"
      ]
     },
     "metadata": {
      "needs_background": "light"
     },
     "output_type": "display_data"
    }
   ],
   "source": [
    "plt.hist(reg.resid)"
   ]
  },
  {
   "cell_type": "markdown",
   "id": "hundred-jenny",
   "metadata": {},
   "source": [
    "Trying KNN"
   ]
  },
  {
   "cell_type": "code",
   "execution_count": 87,
   "id": "international-avatar",
   "metadata": {},
   "outputs": [],
   "source": [
    "from sklearn.neighbors import KNeighborsClassifier\n",
    "import sklearn.model_selection as ms\n",
    "import sklearn.metrics as met\n",
    "from scipy import stats\n",
    "\n",
    "#trying 3 since that is what they do in the tutorial, could try again with other k-values to try and improve accuracy\n",
    "kneigh = KNeighborsClassifier(n_neighbors=4) "
   ]
  },
  {
   "cell_type": "code",
   "execution_count": 92,
   "id": "intermediate-wages",
   "metadata": {},
   "outputs": [
    {
     "data": {
      "image/png": "[encoded data removed]",
      "text/plain": [
       "<Figure size 432x288 with 1 Axes>"
      ]
     },
     "metadata": {
      "needs_background": "light"
     },
     "output_type": "display_data"
    },
    {
     "name": "stdout",
     "output_type": "stream",
     "text": [
      "Average Accuracy for duelist: 0.6837789661319075\n",
      "Average Accuracy for initiator: 0.29047619047619044\n",
      "Average Accuracy for sentinel: 0.5303981732553161\n",
      "Average Accuracy for controller: 0.07291666666666667\n"
     ]
    }
   ],
   "source": [
    "from sklearn import datasets, neighbors\n",
    "from mlxtend.plotting import plot_decision_regions\n",
    "\n",
    "cmap_light = ListedColormap(['lightblue', 'lightgreen', 'lightorange', 'lightred'])\n",
    "cmap_bold = ['darkblue', 'darkgreen', 'darkorange', 'darkred']\n",
    "class_codes = {'duelist':0, 'initiator':1, 'sentinel':2, 'controller':3}\n",
    "\n",
    "kf = ms.KFold(n_splits=10)\n",
    "knn_accuracies = {'duelist':[], 'initiator':[], 'sentinel':[], 'controller':[]}\n",
    "ind = pd.DataFrame(combined_data[['FKPR','FDPR','Class']])\n",
    "dep = np.array([class_codes[i] for i in combined_data['Class']])\n",
    "first = True\n",
    "\n",
    "for train_index, test_index in kf.split(ind):\n",
    "    #divide training and testing data base on the fold\n",
    "    ind_train = ind.iloc[train_index].drop(columns='Class')\n",
    "\n",
    "    ind_test = {'duelist':ind.iloc[test_index][ind.iloc[test_index]['Class']=='duelist'], \n",
    "                'initiator':ind.iloc[test_index][ind.iloc[test_index]['Class']=='initiator'], \n",
    "                'sentinel':ind.iloc[test_index][ind.iloc[test_index]['Class']=='sentinel'],\n",
    "                'controller':ind.iloc[test_index][ind.iloc[test_index]['Class']=='controller']}\n",
    "    dep_train= dep[train_index]\n",
    "    dep_test = dep[test_index]\n",
    "    \n",
    "    #fit and test model\n",
    "    clf = kneigh.fit(ind_train, dep_train)\n",
    "    \n",
    "    for classes in class_codes.keys():\n",
    "        ind_test[classes] = ind_test[classes].drop(columns='Class').dropna()\n",
    "        \n",
    "        if len(ind_test[classes]) > 0:\n",
    "            dep_pred = clf.predict(ind_test[classes])\n",
    "            dep_test = [class_codes[classes]]*len(dep_pred)\n",
    "    \n",
    "            #store the accuracies\n",
    "            knn_accuracies[classes].append(met.accuracy_score(dep_test, dep_pred))\n",
    "    \n",
    "    if first:\n",
    "        #plots\n",
    "        ax = plot_decision_regions(ind_train.to_numpy(), dep_train, clf=clf, legend=2)\n",
    "        # Adding axes annotations\n",
    "        plt.xlabel('FKPR')\n",
    "        plt.ylabel('FDPR')\n",
    "        plt.title('KNN Classifier Visualization')\n",
    "        plt.xlim([0,0.5])\n",
    "        plt.ylim([0,0.5])\n",
    "        handles, labels = ax.get_legend_handles_labels()\n",
    "        plt.legend(handles, ['duelist', 'initiator', 'sentinel', 'controller'])\n",
    "        plt.show()\n",
    "        first = False\n",
    "\n",
    "for classes in knn_accuracies.keys():\n",
    "    print(\"Average Accuracy for \"+classes+\": \" + str(sum(knn_accuracies[classes])/len(knn_accuracies[classes]))) #print average accuracy of the 10 folds\n",
    "    #print(\"Estimated Standard Error of Accuracy: \" + str(stats.sem(knn_accuracies[classes])))"
   ]
  },
  {
   "cell_type": "code",
   "execution_count": null,
   "id": "removed-leone",
   "metadata": {},
   "outputs": [],
   "source": []
  },
  {
   "cell_type": "markdown",
   "id": "vocational-hopkins",
   "metadata": {},
   "source": [
    "# Insights"
   ]
  },
  {
   "cell_type": "markdown",
   "id": "medical-result",
   "metadata": {},
   "source": [
    "# Additional Resources"
   ]
  },
  {
   "cell_type": "code",
   "execution_count": null,
   "id": "mental-jungle",
   "metadata": {},
   "outputs": [],
   "source": []
  }
 ],
 "metadata": {
  "kernelspec": {
   "display_name": "Python 3",
   "language": "python",
   "name": "python3"
  },
  "language_info": {
   "codemirror_mode": {
    "name": "ipython",
    "version": 3
   },
   "file_extension": ".py",
   "mimetype": "text/x-python",
   "name": "python",
   "nbconvert_exporter": "python",
   "pygments_lexer": "ipython3",
   "version": "3.8.6"
  }
 },
 "nbformat": 4,
 "nbformat_minor": 5
}
